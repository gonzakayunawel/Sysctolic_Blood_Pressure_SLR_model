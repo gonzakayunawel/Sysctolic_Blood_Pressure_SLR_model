{
 "cells": [
  {
   "cell_type": "code",
   "execution_count": 1,
   "metadata": {
    "id": "4MTFLQ0Q6tsB"
   },
   "outputs": [],
   "source": [
    "# Importar la librería Pandas la que nos permite leer archivos de datos y\n",
    "# crear un data frame\n",
    "\n",
    "import pandas as pd"
   ]
  },
  {
   "cell_type": "code",
   "execution_count": 2,
   "metadata": {
    "colab": {
     "base_uri": "https://localhost:8080/",
     "height": 424
    },
    "id": "CdN1TOg-6wAL",
    "outputId": "7cda0b4c-3d2c-493a-ac5b-410c51e0b582"
   },
   "outputs": [
    {
     "data": {
      "text/html": [
       "<div>\n",
       "<style scoped>\n",
       "    .dataframe tbody tr th:only-of-type {\n",
       "        vertical-align: middle;\n",
       "    }\n",
       "\n",
       "    .dataframe tbody tr th {\n",
       "        vertical-align: top;\n",
       "    }\n",
       "\n",
       "    .dataframe thead th {\n",
       "        text-align: right;\n",
       "    }\n",
       "</style>\n",
       "<table border=\"1\" class=\"dataframe\">\n",
       "  <thead>\n",
       "    <tr style=\"text-align: right;\">\n",
       "      <th></th>\n",
       "      <th>Nro</th>\n",
       "      <th>Edad</th>\n",
       "      <th>PSS</th>\n",
       "    </tr>\n",
       "  </thead>\n",
       "  <tbody>\n",
       "    <tr>\n",
       "      <th>0</th>\n",
       "      <td>1</td>\n",
       "      <td>44</td>\n",
       "      <td>142</td>\n",
       "    </tr>\n",
       "    <tr>\n",
       "      <th>1</th>\n",
       "      <td>2</td>\n",
       "      <td>46</td>\n",
       "      <td>142</td>\n",
       "    </tr>\n",
       "    <tr>\n",
       "      <th>2</th>\n",
       "      <td>3</td>\n",
       "      <td>42</td>\n",
       "      <td>138</td>\n",
       "    </tr>\n",
       "    <tr>\n",
       "      <th>3</th>\n",
       "      <td>4</td>\n",
       "      <td>57</td>\n",
       "      <td>168</td>\n",
       "    </tr>\n",
       "    <tr>\n",
       "      <th>4</th>\n",
       "      <td>5</td>\n",
       "      <td>21</td>\n",
       "      <td>120</td>\n",
       "    </tr>\n",
       "    <tr>\n",
       "      <th>...</th>\n",
       "      <td>...</td>\n",
       "      <td>...</td>\n",
       "      <td>...</td>\n",
       "    </tr>\n",
       "    <tr>\n",
       "      <th>64</th>\n",
       "      <td>65</td>\n",
       "      <td>47</td>\n",
       "      <td>156</td>\n",
       "    </tr>\n",
       "    <tr>\n",
       "      <th>65</th>\n",
       "      <td>66</td>\n",
       "      <td>68</td>\n",
       "      <td>172</td>\n",
       "    </tr>\n",
       "    <tr>\n",
       "      <th>66</th>\n",
       "      <td>67</td>\n",
       "      <td>56</td>\n",
       "      <td>165</td>\n",
       "    </tr>\n",
       "    <tr>\n",
       "      <th>67</th>\n",
       "      <td>68</td>\n",
       "      <td>36</td>\n",
       "      <td>124</td>\n",
       "    </tr>\n",
       "    <tr>\n",
       "      <th>68</th>\n",
       "      <td>69</td>\n",
       "      <td>41</td>\n",
       "      <td>134</td>\n",
       "    </tr>\n",
       "  </tbody>\n",
       "</table>\n",
       "<p>69 rows × 3 columns</p>\n",
       "</div>"
      ],
      "text/plain": [
       "    Nro  Edad  PSS\n",
       "0     1    44  142\n",
       "1     2    46  142\n",
       "2     3    42  138\n",
       "3     4    57  168\n",
       "4     5    21  120\n",
       "..  ...   ...  ...\n",
       "64   65    47  156\n",
       "65   66    68  172\n",
       "66   67    56  165\n",
       "67   68    36  124\n",
       "68   69    41  134\n",
       "\n",
       "[69 rows x 3 columns]"
      ]
     },
     "execution_count": 2,
     "metadata": {},
     "output_type": "execute_result"
    }
   ],
   "source": [
    "# Usamos la función de pandas .read_csv() y el resultado se lo asignamos a una variable\n",
    "# Como argumento de .read_csv() usamos la ruta del archivo a leer.\n",
    "# Esto es una de las maneras en que podemos crear un DataFrame\n",
    "\n",
    "\n",
    "df_pss = pd.read_csv('presion_sanguinea_sistolica.csv')\n",
    "df_pss"
   ]
  },
  {
   "cell_type": "code",
   "execution_count": 3,
   "metadata": {
    "colab": {
     "base_uri": "https://localhost:8080/",
     "height": 300
    },
    "id": "P6VQbF4iLrfz",
    "outputId": "9a516c6b-a8da-4f76-91e6-9aeac3d76eae"
   },
   "outputs": [
    {
     "data": {
      "text/html": [
       "<div>\n",
       "<style scoped>\n",
       "    .dataframe tbody tr th:only-of-type {\n",
       "        vertical-align: middle;\n",
       "    }\n",
       "\n",
       "    .dataframe tbody tr th {\n",
       "        vertical-align: top;\n",
       "    }\n",
       "\n",
       "    .dataframe thead th {\n",
       "        text-align: right;\n",
       "    }\n",
       "</style>\n",
       "<table border=\"1\" class=\"dataframe\">\n",
       "  <thead>\n",
       "    <tr style=\"text-align: right;\">\n",
       "      <th></th>\n",
       "      <th>Nro</th>\n",
       "      <th>Edad</th>\n",
       "      <th>PSS</th>\n",
       "    </tr>\n",
       "  </thead>\n",
       "  <tbody>\n",
       "    <tr>\n",
       "      <th>count</th>\n",
       "      <td>69.000000</td>\n",
       "      <td>69.000000</td>\n",
       "      <td>69.000000</td>\n",
       "    </tr>\n",
       "    <tr>\n",
       "      <th>mean</th>\n",
       "      <td>35.000000</td>\n",
       "      <td>46.507246</td>\n",
       "      <td>148.724638</td>\n",
       "    </tr>\n",
       "    <tr>\n",
       "      <th>std</th>\n",
       "      <td>20.062403</td>\n",
       "      <td>14.584060</td>\n",
       "      <td>18.475647</td>\n",
       "    </tr>\n",
       "    <tr>\n",
       "      <th>min</th>\n",
       "      <td>1.000000</td>\n",
       "      <td>17.000000</td>\n",
       "      <td>110.000000</td>\n",
       "    </tr>\n",
       "    <tr>\n",
       "      <th>25%</th>\n",
       "      <td>18.000000</td>\n",
       "      <td>38.000000</td>\n",
       "      <td>135.000000</td>\n",
       "    </tr>\n",
       "    <tr>\n",
       "      <th>50%</th>\n",
       "      <td>35.000000</td>\n",
       "      <td>47.000000</td>\n",
       "      <td>149.000000</td>\n",
       "    </tr>\n",
       "    <tr>\n",
       "      <th>75%</th>\n",
       "      <td>52.000000</td>\n",
       "      <td>59.000000</td>\n",
       "      <td>162.000000</td>\n",
       "    </tr>\n",
       "    <tr>\n",
       "      <th>max</th>\n",
       "      <td>69.000000</td>\n",
       "      <td>70.000000</td>\n",
       "      <td>185.000000</td>\n",
       "    </tr>\n",
       "  </tbody>\n",
       "</table>\n",
       "</div>"
      ],
      "text/plain": [
       "             Nro       Edad         PSS\n",
       "count  69.000000  69.000000   69.000000\n",
       "mean   35.000000  46.507246  148.724638\n",
       "std    20.062403  14.584060   18.475647\n",
       "min     1.000000  17.000000  110.000000\n",
       "25%    18.000000  38.000000  135.000000\n",
       "50%    35.000000  47.000000  149.000000\n",
       "75%    52.000000  59.000000  162.000000\n",
       "max    69.000000  70.000000  185.000000"
      ]
     },
     "execution_count": 3,
     "metadata": {},
     "output_type": "execute_result"
    }
   ],
   "source": [
    "# Nos permite conocer estadísticas de nuestros datos\n",
    "\n",
    "df_pss.describe()"
   ]
  },
  {
   "cell_type": "code",
   "execution_count": 4,
   "metadata": {
    "colab": {
     "base_uri": "https://localhost:8080/",
     "height": 265
    },
    "id": "2rx9xaD5qoPR",
    "outputId": "3f23f5ce-95f2-4c28-e33c-6d70d9c7e0f2"
   },
   "outputs": [
    {
     "data": {
      "image/png": "[encoded data removed]",
      "text/plain": [
       "<Figure size 432x288 with 1 Axes>"
      ]
     },
     "metadata": {
      "needs_background": "light"
     },
     "output_type": "display_data"
    }
   ],
   "source": [
    "# Importar módulo matlplotlib\n",
    "from matplotlib import pyplot as plt\n",
    "\n",
    "\n",
    "# Leemos los datos accediendo a la columna correspondiente\n",
    "# Usamos la notación de listas nombre_de_la_lista['Nombre_Columna']\n",
    "\n",
    "x = df_pss['Edad']\n",
    "y = df_pss['PSS']\n",
    "\n",
    "# Graficamos el diagrama de dispersión\n",
    "\n",
    "plt.scatter(x, y, color='tomato')\n",
    "\n",
    "plt.show()"
   ]
  },
  {
   "cell_type": "markdown",
   "metadata": {
    "id": "-G0GobsvNZ8d"
   },
   "source": [
    "## **Regresión Lineal Simple**\n",
    "\n",
    "La regresión lineal simple consiste en generar un modelo de regresión (ecuación de una recta) que permita explicar la relación lineal que existe entre dos variables. A la variable dependiente o respuesta se le identifica como Y y a la variable predictora o independiente como X.\n",
    "\n",
    "![Regresión Lineal.png](data:image/png;base64,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)\n",
    "\n",
    "### Correlación lineal\n",
    "\n",
    "Para estudiar la relación lineal existente entre dos variables continuas es necesario disponer de parámetros que permitan cuantificar dicha relación.\n",
    "\n",
    "Para ello calculamos el coeficiente de Correlación R de Pearson, el cual nos explica cuanta relación tienen ambas variables.\n",
    "\n",
    "Siendo +1 una correlación positiva perfecta y -1 una correlación negativa perfecta.\n",
    "\n",
    "Se emplean como medida de fuerza de asociación (tamaño del efecto):\n",
    "\n",
    "*   0: asociación nula.\n",
    "*   0.1: asociación pequeña.\n",
    "*   0.3: asociación mediana.\n",
    "*   0.5: asociación moderada.\n",
    "*   0.7: asociación alta.\n",
    "*   0.9: asociación muy alta.\n",
    "\n"
   ]
  },
  {
   "cell_type": "code",
   "execution_count": 5,
   "metadata": {
    "colab": {
     "base_uri": "https://localhost:8080/"
    },
    "id": "gMtxwElxNXAC",
    "outputId": "5ab20333-0630-4e59-b3e9-41b8382622b2"
   },
   "outputs": [
    {
     "name": "stdout",
     "output_type": "stream",
     "text": [
      "46.51\n",
      "148.72\n",
      "14.48\n",
      "18.34\n",
      "212.69\n",
      "220.95\n",
      "El coeficiente de correlación R de Person es:  0.83\n",
      "1.04 100.35\n"
     ]
    }
   ],
   "source": [
    "# Importamos la librería numpy\n",
    "\n",
    "import numpy as np\n",
    "\n",
    "# Usaremos el método round() para redondear los resultados\n",
    "# Sintaxis: round(valor_a_redondear, cantidad de decimales)\n",
    "\n",
    "# Calculamos los promedios\n",
    "promedio_x = round(x.mean(), 2)\n",
    "promedio_y = round(y.mean(), 2)\n",
    "\n",
    "# Calculamos la desviación estándar\n",
    "desv_std_x = round(np.std(x), 2)\n",
    "desv_std_y = round(np.std(y), 2)\n",
    "\n",
    "# Calculamos la varianza\n",
    "var_x = round(np.cov(x, y)[0][0], 2)\n",
    "\n",
    "# Calculamos la covarianza\n",
    "cov_x_y = round(np.cov(x, y)[0][1], 2)\n",
    "\n",
    "# Mostramos los resultados\n",
    "\n",
    "print(promedio_x)\n",
    "print(promedio_y)\n",
    "print(desv_std_x)\n",
    "print(desv_std_y)\n",
    "print(var_x)\n",
    "print(cov_x_y)\n",
    "\n",
    "# Calculamos el coeficiente de Correlación R de Pearson \n",
    "\n",
    "rPearson = round( cov_x_y/(desv_std_x * desv_std_y), 2)\n",
    "\n",
    "print(\"El coeficiente de correlación R de Person es: \", rPearson)\n",
    "\n",
    "# Calculamos el estimador Beta 1 (pendiente)\n",
    "\n",
    "beta_1 = round((cov_x_y/var_x), 2)\n",
    "\n",
    "# Calculamos el estimador Beta 0 (intercepto)\n",
    "\n",
    "beta_0 = round((promedio_y-beta_1*promedio_x), 2)\n",
    "\n",
    "print(beta_1, beta_0)\n"
   ]
  },
  {
   "cell_type": "code",
   "execution_count": 6,
   "metadata": {
    "colab": {
     "base_uri": "https://localhost:8080/"
    },
    "id": "i6MT7J7IBM_1",
    "outputId": "800de44a-4684-4c4c-f639-c2ff66e00fa9"
   },
   "outputs": [
    {
     "data": {
      "image/png": "[encoded data removed]",
      "text/plain": [
       "<Figure size 720x432 with 1 Axes>"
      ]
     },
     "metadata": {
      "needs_background": "light"
     },
     "output_type": "display_data"
    }
   ],
   "source": [
    "# Crear el gráfico de con la función estimada a través de la Regresión Lineal\n",
    "from matplotlib import pyplot as plt\n",
    "\n",
    "# Tamaño del gráfico\n",
    "plt.figure(figsize=(10, 6))\n",
    "\n",
    "# Gráfico de los datos originales\n",
    "\n",
    "x = df_pss['Edad']\n",
    "y = df_pss['PSS']\n",
    "\n",
    "plt.plot(x, y, marker='o', linestyle='', color='tomato', label='Datos Originales')\n",
    "\n",
    "# Gráfico de Función estimada\n",
    "x2 = df_pss['Edad']\n",
    "\n",
    "y2=[]\n",
    "for i,e in enumerate(x):\n",
    "  value = beta_0 + beta_1 * x2[i]\n",
    "  y2.append(value)\n",
    "\n",
    "plt.plot(x2, y2, marker='s', linestyle='--', color='g', label='Función Estimada')\n",
    "plt.xlabel('Edad')\n",
    "plt.ylabel('Presión Sanguína Sistólica')\n",
    "plt.title('Regresión Lineal Simple')\n",
    "plt.legend(loc='lower right')\n",
    "plt.show()"
   ]
  }
 ],
 "metadata": {
  "colab": {
   "collapsed_sections": [],
   "provenance": []
  },
  "kernelspec": {
   "display_name": "Python 3 (ipykernel)",
   "language": "python",
   "name": "python3"
  },
  "language_info": {
   "codemirror_mode": {
    "name": "ipython",
    "version": 3
   },
   "file_extension": ".py",
   "mimetype": "text/x-python",
   "name": "python",
   "nbconvert_exporter": "python",
   "pygments_lexer": "ipython3",
   "version": "3.9.7"
  }
 },
 "nbformat": 4,
 "nbformat_minor": 1
}
